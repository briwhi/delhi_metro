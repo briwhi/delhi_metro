{
 "cells": [
  {
   "cell_type": "code",
   "execution_count": 2,
   "id": "884b7851",
   "metadata": {},
   "outputs": [],
   "source": [
    "import pandas as pd\n",
    "import folium\n",
    "import plotly.express as px\n",
    "import plotly.graph_objects as go\n",
    "from plotly.subplots import make_subplots\n",
    "import plotly.io as pio\n",
    "pio.templates.default = \"plotly_white\""
   ]
  },
  {
   "cell_type": "code",
   "execution_count": 3,
   "id": "80d92ca1",
   "metadata": {},
   "outputs": [],
   "source": [
    "metro_data = pd.read_csv(\"Delhi-Metro-Network.csv\")"
   ]
  },
  {
   "cell_type": "code",
   "execution_count": 4,
   "id": "25cddabf",
   "metadata": {},
   "outputs": [
    {
     "data": {
      "text/html": [
       "<div>\n",
       "<style scoped>\n",
       "    .dataframe tbody tr th:only-of-type {\n",
       "        vertical-align: middle;\n",
       "    }\n",
       "\n",
       "    .dataframe tbody tr th {\n",
       "        vertical-align: top;\n",
       "    }\n",
       "\n",
       "    .dataframe thead th {\n",
       "        text-align: right;\n",
       "    }\n",
       "</style>\n",
       "<table border=\"1\" class=\"dataframe\">\n",
       "  <thead>\n",
       "    <tr style=\"text-align: right;\">\n",
       "      <th></th>\n",
       "      <th>Station ID</th>\n",
       "      <th>Station Name</th>\n",
       "      <th>Distance from Start (km)</th>\n",
       "      <th>Line</th>\n",
       "      <th>Opening Date</th>\n",
       "      <th>Station Layout</th>\n",
       "      <th>Latitude</th>\n",
       "      <th>Longitude</th>\n",
       "    </tr>\n",
       "  </thead>\n",
       "  <tbody>\n",
       "    <tr>\n",
       "      <th>0</th>\n",
       "      <td>1</td>\n",
       "      <td>Jhil Mil</td>\n",
       "      <td>10.3</td>\n",
       "      <td>Red line</td>\n",
       "      <td>2008-04-06</td>\n",
       "      <td>Elevated</td>\n",
       "      <td>28.675790</td>\n",
       "      <td>77.312390</td>\n",
       "    </tr>\n",
       "    <tr>\n",
       "      <th>1</th>\n",
       "      <td>2</td>\n",
       "      <td>Welcome [Conn: Red]</td>\n",
       "      <td>46.8</td>\n",
       "      <td>Pink line</td>\n",
       "      <td>2018-10-31</td>\n",
       "      <td>Elevated</td>\n",
       "      <td>28.671800</td>\n",
       "      <td>77.277560</td>\n",
       "    </tr>\n",
       "    <tr>\n",
       "      <th>2</th>\n",
       "      <td>3</td>\n",
       "      <td>DLF Phase 3</td>\n",
       "      <td>10.0</td>\n",
       "      <td>Rapid Metro</td>\n",
       "      <td>2013-11-14</td>\n",
       "      <td>Elevated</td>\n",
       "      <td>28.493600</td>\n",
       "      <td>77.093500</td>\n",
       "    </tr>\n",
       "    <tr>\n",
       "      <th>3</th>\n",
       "      <td>4</td>\n",
       "      <td>Okhla NSIC</td>\n",
       "      <td>23.8</td>\n",
       "      <td>Magenta line</td>\n",
       "      <td>2017-12-25</td>\n",
       "      <td>Elevated</td>\n",
       "      <td>28.554483</td>\n",
       "      <td>77.264849</td>\n",
       "    </tr>\n",
       "    <tr>\n",
       "      <th>4</th>\n",
       "      <td>5</td>\n",
       "      <td>Dwarka Mor</td>\n",
       "      <td>10.2</td>\n",
       "      <td>Blue line</td>\n",
       "      <td>2005-12-30</td>\n",
       "      <td>Elevated</td>\n",
       "      <td>28.619320</td>\n",
       "      <td>77.033260</td>\n",
       "    </tr>\n",
       "  </tbody>\n",
       "</table>\n",
       "</div>"
      ],
      "text/plain": [
       "   Station ID         Station Name  Distance from Start (km)          Line  \\\n",
       "0           1             Jhil Mil                      10.3      Red line   \n",
       "1           2  Welcome [Conn: Red]                      46.8     Pink line   \n",
       "2           3          DLF Phase 3                      10.0   Rapid Metro   \n",
       "3           4           Okhla NSIC                      23.8  Magenta line   \n",
       "4           5           Dwarka Mor                      10.2     Blue line   \n",
       "\n",
       "  Opening Date Station Layout   Latitude  Longitude  \n",
       "0   2008-04-06       Elevated  28.675790  77.312390  \n",
       "1   2018-10-31       Elevated  28.671800  77.277560  \n",
       "2   2013-11-14       Elevated  28.493600  77.093500  \n",
       "3   2017-12-25       Elevated  28.554483  77.264849  \n",
       "4   2005-12-30       Elevated  28.619320  77.033260  "
      ]
     },
     "execution_count": 4,
     "metadata": {},
     "output_type": "execute_result"
    }
   ],
   "source": [
    "metro_data.head()"
   ]
  },
  {
   "cell_type": "code",
   "execution_count": 5,
   "id": "025daee3",
   "metadata": {},
   "outputs": [
    {
     "data": {
      "text/plain": [
       "(285, 8)"
      ]
     },
     "execution_count": 5,
     "metadata": {},
     "output_type": "execute_result"
    }
   ],
   "source": [
    "metro_data.shape"
   ]
  },
  {
   "cell_type": "code",
   "execution_count": 11,
   "id": "a0b3d8f2",
   "metadata": {},
   "outputs": [
    {
     "name": "stdout",
     "output_type": "stream",
     "text": [
      "<class 'pandas.core.frame.DataFrame'>\n",
      "RangeIndex: 285 entries, 0 to 284\n",
      "Data columns (total 8 columns):\n",
      " #   Column                    Non-Null Count  Dtype         \n",
      "---  ------                    --------------  -----         \n",
      " 0   Station ID                285 non-null    int64         \n",
      " 1   Station Name              285 non-null    object        \n",
      " 2   Distance from Start (km)  285 non-null    float64       \n",
      " 3   Line                      285 non-null    object        \n",
      " 4   Opening Date              285 non-null    datetime64[ns]\n",
      " 5   Station Layout            285 non-null    object        \n",
      " 6   Latitude                  285 non-null    float64       \n",
      " 7   Longitude                 285 non-null    float64       \n",
      "dtypes: datetime64[ns](1), float64(3), int64(1), object(3)\n",
      "memory usage: 17.9+ KB\n"
     ]
    }
   ],
   "source": [
    "metro_data.info()"
   ]
  },
  {
   "cell_type": "code",
   "execution_count": 8,
   "id": "1b9fb864",
   "metadata": {},
   "outputs": [
    {
     "data": {
      "text/plain": [
       "Station ID                  0\n",
       "Station Name                0\n",
       "Distance from Start (km)    0\n",
       "Line                        0\n",
       "Opening Date                0\n",
       "Station Layout              0\n",
       "Latitude                    0\n",
       "Longitude                   0\n",
       "dtype: int64"
      ]
     },
     "execution_count": 8,
     "metadata": {},
     "output_type": "execute_result"
    }
   ],
   "source": [
    "# checking for missing values\n",
    "missing_values = metro_data.isnull().sum()\n",
    "missing_values"
   ]
  },
  {
   "cell_type": "code",
   "execution_count": 9,
   "id": "54b2ad66",
   "metadata": {},
   "outputs": [],
   "source": [
    "# converting 'Opening Date' to datetime format\n",
    "metro_data['Opening Date'] = pd.to_datetime(metro_data['Opening Date'])"
   ]
  },
  {
   "cell_type": "code",
   "execution_count": 10,
   "id": "654faeda",
   "metadata": {},
   "outputs": [
    {
     "data": {
      "text/html": [
       "<div>\n",
       "<style scoped>\n",
       "    .dataframe tbody tr th:only-of-type {\n",
       "        vertical-align: middle;\n",
       "    }\n",
       "\n",
       "    .dataframe tbody tr th {\n",
       "        vertical-align: top;\n",
       "    }\n",
       "\n",
       "    .dataframe thead th {\n",
       "        text-align: right;\n",
       "    }\n",
       "</style>\n",
       "<table border=\"1\" class=\"dataframe\">\n",
       "  <thead>\n",
       "    <tr style=\"text-align: right;\">\n",
       "      <th></th>\n",
       "      <th>Station ID</th>\n",
       "      <th>Station Name</th>\n",
       "      <th>Distance from Start (km)</th>\n",
       "      <th>Line</th>\n",
       "      <th>Opening Date</th>\n",
       "      <th>Station Layout</th>\n",
       "      <th>Latitude</th>\n",
       "      <th>Longitude</th>\n",
       "    </tr>\n",
       "  </thead>\n",
       "  <tbody>\n",
       "    <tr>\n",
       "      <th>0</th>\n",
       "      <td>1</td>\n",
       "      <td>Jhil Mil</td>\n",
       "      <td>10.3</td>\n",
       "      <td>Red line</td>\n",
       "      <td>2008-04-06</td>\n",
       "      <td>Elevated</td>\n",
       "      <td>28.675790</td>\n",
       "      <td>77.312390</td>\n",
       "    </tr>\n",
       "    <tr>\n",
       "      <th>1</th>\n",
       "      <td>2</td>\n",
       "      <td>Welcome [Conn: Red]</td>\n",
       "      <td>46.8</td>\n",
       "      <td>Pink line</td>\n",
       "      <td>2018-10-31</td>\n",
       "      <td>Elevated</td>\n",
       "      <td>28.671800</td>\n",
       "      <td>77.277560</td>\n",
       "    </tr>\n",
       "    <tr>\n",
       "      <th>2</th>\n",
       "      <td>3</td>\n",
       "      <td>DLF Phase 3</td>\n",
       "      <td>10.0</td>\n",
       "      <td>Rapid Metro</td>\n",
       "      <td>2013-11-14</td>\n",
       "      <td>Elevated</td>\n",
       "      <td>28.493600</td>\n",
       "      <td>77.093500</td>\n",
       "    </tr>\n",
       "    <tr>\n",
       "      <th>3</th>\n",
       "      <td>4</td>\n",
       "      <td>Okhla NSIC</td>\n",
       "      <td>23.8</td>\n",
       "      <td>Magenta line</td>\n",
       "      <td>2017-12-25</td>\n",
       "      <td>Elevated</td>\n",
       "      <td>28.554483</td>\n",
       "      <td>77.264849</td>\n",
       "    </tr>\n",
       "    <tr>\n",
       "      <th>4</th>\n",
       "      <td>5</td>\n",
       "      <td>Dwarka Mor</td>\n",
       "      <td>10.2</td>\n",
       "      <td>Blue line</td>\n",
       "      <td>2005-12-30</td>\n",
       "      <td>Elevated</td>\n",
       "      <td>28.619320</td>\n",
       "      <td>77.033260</td>\n",
       "    </tr>\n",
       "  </tbody>\n",
       "</table>\n",
       "</div>"
      ],
      "text/plain": [
       "   Station ID         Station Name  Distance from Start (km)          Line  \\\n",
       "0           1             Jhil Mil                      10.3      Red line   \n",
       "1           2  Welcome [Conn: Red]                      46.8     Pink line   \n",
       "2           3          DLF Phase 3                      10.0   Rapid Metro   \n",
       "3           4           Okhla NSIC                      23.8  Magenta line   \n",
       "4           5           Dwarka Mor                      10.2     Blue line   \n",
       "\n",
       "  Opening Date Station Layout   Latitude  Longitude  \n",
       "0   2008-04-06       Elevated  28.675790  77.312390  \n",
       "1   2018-10-31       Elevated  28.671800  77.277560  \n",
       "2   2013-11-14       Elevated  28.493600  77.093500  \n",
       "3   2017-12-25       Elevated  28.554483  77.264849  \n",
       "4   2005-12-30       Elevated  28.619320  77.033260  "
      ]
     },
     "execution_count": 10,
     "metadata": {},
     "output_type": "execute_result"
    }
   ],
   "source": [
    "metro_data.head()"
   ]
  }
 ],
 "metadata": {
  "kernelspec": {
   "display_name": "Python 3",
   "language": "python",
   "name": "python3"
  },
  "language_info": {
   "codemirror_mode": {
    "name": "ipython",
    "version": 3
   },
   "file_extension": ".py",
   "mimetype": "text/x-python",
   "name": "python",
   "nbconvert_exporter": "python",
   "pygments_lexer": "ipython3",
   "version": "3.13.2"
  }
 },
 "nbformat": 4,
 "nbformat_minor": 5
}
